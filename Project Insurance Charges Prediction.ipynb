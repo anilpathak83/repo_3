{
 "cells": [
  {
   "cell_type": "code",
   "execution_count": 2,
   "id": "ecb1bd34",
   "metadata": {},
   "outputs": [],
   "source": [
    "import numpy as np, pandas as pd"
   ]
  },
  {
   "cell_type": "code",
   "execution_count": 3,
   "id": "13d12288",
   "metadata": {},
   "outputs": [],
   "source": [
    "df=pd.read_csv(r\"D:\\DATA_SCIENCE\\MACHINE LEARNING\\LINEAR REGRESSION-14-05-2022\\new_insurance_data.csv\")"
   ]
  },
  {
   "cell_type": "code",
   "execution_count": 4,
   "id": "695c353b",
   "metadata": {},
   "outputs": [
    {
     "data": {
      "text/html": [
       "<div>\n",
       "<style scoped>\n",
       "    .dataframe tbody tr th:only-of-type {\n",
       "        vertical-align: middle;\n",
       "    }\n",
       "\n",
       "    .dataframe tbody tr th {\n",
       "        vertical-align: top;\n",
       "    }\n",
       "\n",
       "    .dataframe thead th {\n",
       "        text-align: right;\n",
       "    }\n",
       "</style>\n",
       "<table border=\"1\" class=\"dataframe\">\n",
       "  <thead>\n",
       "    <tr style=\"text-align: right;\">\n",
       "      <th></th>\n",
       "      <th>age</th>\n",
       "      <th>sex</th>\n",
       "      <th>bmi</th>\n",
       "      <th>children</th>\n",
       "      <th>smoker</th>\n",
       "      <th>Claim_Amount</th>\n",
       "      <th>past_consultations</th>\n",
       "      <th>num_of_steps</th>\n",
       "      <th>Hospital_expenditure</th>\n",
       "      <th>NUmber_of_past_hospitalizations</th>\n",
       "      <th>Anual_Salary</th>\n",
       "      <th>region</th>\n",
       "      <th>charges</th>\n",
       "    </tr>\n",
       "  </thead>\n",
       "  <tbody>\n",
       "    <tr>\n",
       "      <th>1178</th>\n",
       "      <td>59.0</td>\n",
       "      <td>male</td>\n",
       "      <td>29.830</td>\n",
       "      <td>3.0</td>\n",
       "      <td>yes</td>\n",
       "      <td>24752.66875</td>\n",
       "      <td>18.0</td>\n",
       "      <td>1025073.0</td>\n",
       "      <td>3.611580e+07</td>\n",
       "      <td>2.0</td>\n",
       "      <td>9.915987e+08</td>\n",
       "      <td>northeast</td>\n",
       "      <td>30184.93670</td>\n",
       "    </tr>\n",
       "    <tr>\n",
       "      <th>403</th>\n",
       "      <td>36.0</td>\n",
       "      <td>male</td>\n",
       "      <td>34.430</td>\n",
       "      <td>2.0</td>\n",
       "      <td>no</td>\n",
       "      <td>38101.52593</td>\n",
       "      <td>18.0</td>\n",
       "      <td>858593.0</td>\n",
       "      <td>7.020396e+06</td>\n",
       "      <td>1.0</td>\n",
       "      <td>1.066189e+08</td>\n",
       "      <td>southeast</td>\n",
       "      <td>5584.30570</td>\n",
       "    </tr>\n",
       "    <tr>\n",
       "      <th>515</th>\n",
       "      <td>42.0</td>\n",
       "      <td>male</td>\n",
       "      <td>35.970</td>\n",
       "      <td>2.0</td>\n",
       "      <td>no</td>\n",
       "      <td>44017.67317</td>\n",
       "      <td>5.0</td>\n",
       "      <td>882179.0</td>\n",
       "      <td>6.299386e+06</td>\n",
       "      <td>1.0</td>\n",
       "      <td>9.148995e+07</td>\n",
       "      <td>southeast</td>\n",
       "      <td>7160.33030</td>\n",
       "    </tr>\n",
       "    <tr>\n",
       "      <th>219</th>\n",
       "      <td>29.0</td>\n",
       "      <td>female</td>\n",
       "      <td>35.530</td>\n",
       "      <td>0.0</td>\n",
       "      <td>no</td>\n",
       "      <td>45542.06654</td>\n",
       "      <td>7.0</td>\n",
       "      <td>825387.0</td>\n",
       "      <td>7.430224e+06</td>\n",
       "      <td>1.0</td>\n",
       "      <td>6.038665e+07</td>\n",
       "      <td>southeast</td>\n",
       "      <td>3366.66970</td>\n",
       "    </tr>\n",
       "    <tr>\n",
       "      <th>558</th>\n",
       "      <td>42.0</td>\n",
       "      <td>male</td>\n",
       "      <td>26.125</td>\n",
       "      <td>2.0</td>\n",
       "      <td>no</td>\n",
       "      <td>45123.64759</td>\n",
       "      <td>8.0</td>\n",
       "      <td>904306.0</td>\n",
       "      <td>3.472777e+06</td>\n",
       "      <td>1.0</td>\n",
       "      <td>7.633851e+07</td>\n",
       "      <td>northeast</td>\n",
       "      <td>7729.64575</td>\n",
       "    </tr>\n",
       "  </tbody>\n",
       "</table>\n",
       "</div>"
      ],
      "text/plain": [
       "       age     sex     bmi  children smoker  Claim_Amount  past_consultations  \\\n",
       "1178  59.0    male  29.830       3.0    yes   24752.66875                18.0   \n",
       "403   36.0    male  34.430       2.0     no   38101.52593                18.0   \n",
       "515   42.0    male  35.970       2.0     no   44017.67317                 5.0   \n",
       "219   29.0  female  35.530       0.0     no   45542.06654                 7.0   \n",
       "558   42.0    male  26.125       2.0     no   45123.64759                 8.0   \n",
       "\n",
       "      num_of_steps  Hospital_expenditure  NUmber_of_past_hospitalizations  \\\n",
       "1178     1025073.0          3.611580e+07                              2.0   \n",
       "403       858593.0          7.020396e+06                              1.0   \n",
       "515       882179.0          6.299386e+06                              1.0   \n",
       "219       825387.0          7.430224e+06                              1.0   \n",
       "558       904306.0          3.472777e+06                              1.0   \n",
       "\n",
       "      Anual_Salary     region      charges  \n",
       "1178  9.915987e+08  northeast  30184.93670  \n",
       "403   1.066189e+08  southeast   5584.30570  \n",
       "515   9.148995e+07  southeast   7160.33030  \n",
       "219   6.038665e+07  southeast   3366.66970  \n",
       "558   7.633851e+07  northeast   7729.64575  "
      ]
     },
     "execution_count": 4,
     "metadata": {},
     "output_type": "execute_result"
    }
   ],
   "source": [
    "df.sample(5)"
   ]
  },
  {
   "cell_type": "code",
   "execution_count": 5,
   "id": "9cd6a0c3",
   "metadata": {},
   "outputs": [
    {
     "name": "stdout",
     "output_type": "stream",
     "text": [
      "<class 'pandas.core.frame.DataFrame'>\n",
      "RangeIndex: 1338 entries, 0 to 1337\n",
      "Data columns (total 13 columns):\n",
      " #   Column                           Non-Null Count  Dtype  \n",
      "---  ------                           --------------  -----  \n",
      " 0   age                              1329 non-null   float64\n",
      " 1   sex                              1338 non-null   object \n",
      " 2   bmi                              1335 non-null   float64\n",
      " 3   children                         1333 non-null   float64\n",
      " 4   smoker                           1338 non-null   object \n",
      " 5   Claim_Amount                     1324 non-null   float64\n",
      " 6   past_consultations               1332 non-null   float64\n",
      " 7   num_of_steps                     1335 non-null   float64\n",
      " 8   Hospital_expenditure             1334 non-null   float64\n",
      " 9   NUmber_of_past_hospitalizations  1336 non-null   float64\n",
      " 10  Anual_Salary                     1332 non-null   float64\n",
      " 11  region                           1338 non-null   object \n",
      " 12  charges                          1338 non-null   float64\n",
      "dtypes: float64(10), object(3)\n",
      "memory usage: 136.0+ KB\n"
     ]
    }
   ],
   "source": [
    "df.info()"
   ]
  },
  {
   "cell_type": "markdown",
   "id": "995b152a",
   "metadata": {},
   "source": [
    "# EDA\n",
    "## Label encoding"
   ]
  },
  {
   "cell_type": "code",
   "execution_count": 6,
   "id": "7907394f",
   "metadata": {},
   "outputs": [
    {
     "name": "stdout",
     "output_type": "stream",
     "text": [
      "<class 'pandas.core.frame.DataFrame'>\n",
      "RangeIndex: 1338 entries, 0 to 1337\n",
      "Data columns (total 13 columns):\n",
      " #   Column                           Non-Null Count  Dtype  \n",
      "---  ------                           --------------  -----  \n",
      " 0   age                              1329 non-null   float64\n",
      " 1   sex                              1338 non-null   int32  \n",
      " 2   bmi                              1335 non-null   float64\n",
      " 3   children                         1333 non-null   float64\n",
      " 4   smoker                           1338 non-null   int32  \n",
      " 5   Claim_Amount                     1324 non-null   float64\n",
      " 6   past_consultations               1332 non-null   float64\n",
      " 7   num_of_steps                     1335 non-null   float64\n",
      " 8   Hospital_expenditure             1334 non-null   float64\n",
      " 9   NUmber_of_past_hospitalizations  1336 non-null   float64\n",
      " 10  Anual_Salary                     1332 non-null   float64\n",
      " 11  region                           1338 non-null   object \n",
      " 12  charges                          1338 non-null   float64\n",
      "dtypes: float64(10), int32(2), object(1)\n",
      "memory usage: 125.6+ KB\n"
     ]
    }
   ],
   "source": [
    "from sklearn.preprocessing import LabelEncoder\n",
    "le=LabelEncoder()\n",
    "df['sex']=le.fit_transform(df['sex'])\n",
    "df['smoker']=le.fit_transform(df['smoker'])\n",
    "# Changing data type of two column\n",
    "df['sex']=df['sex'].astype(int)\n",
    "df['smoker']=df['smoker'].astype(int)\n",
    "df.info()"
   ]
  },
  {
   "cell_type": "code",
   "execution_count": 7,
   "id": "6a72a30f",
   "metadata": {
    "scrolled": true
   },
   "outputs": [
    {
     "name": "stdout",
     "output_type": "stream",
     "text": [
      "<class 'pandas.core.frame.DataFrame'>\n",
      "RangeIndex: 1338 entries, 0 to 1337\n",
      "Data columns (total 13 columns):\n",
      " #   Column                           Non-Null Count  Dtype  \n",
      "---  ------                           --------------  -----  \n",
      " 0   age                              1329 non-null   float64\n",
      " 1   sex                              1338 non-null   int32  \n",
      " 2   bmi                              1335 non-null   float64\n",
      " 3   children                         1333 non-null   float64\n",
      " 4   smoker                           1338 non-null   int32  \n",
      " 5   Claim_Amount                     1324 non-null   float64\n",
      " 6   past_consultations               1332 non-null   float64\n",
      " 7   num_of_steps                     1335 non-null   float64\n",
      " 8   Hospital_expenditure             1334 non-null   float64\n",
      " 9   NUmber_of_past_hospitalizations  1336 non-null   float64\n",
      " 10  Anual_Salary                     1332 non-null   float64\n",
      " 11  region                           1338 non-null   object \n",
      " 12  charges                          1338 non-null   float64\n",
      "dtypes: float64(10), int32(2), object(1)\n",
      "memory usage: 125.6+ KB\n"
     ]
    }
   ],
   "source": [
    "df.info()"
   ]
  },
  {
   "cell_type": "code",
   "execution_count": 8,
   "id": "aea4ee09",
   "metadata": {},
   "outputs": [
    {
     "data": {
      "text/html": [
       "<div>\n",
       "<style scoped>\n",
       "    .dataframe tbody tr th:only-of-type {\n",
       "        vertical-align: middle;\n",
       "    }\n",
       "\n",
       "    .dataframe tbody tr th {\n",
       "        vertical-align: top;\n",
       "    }\n",
       "\n",
       "    .dataframe thead th {\n",
       "        text-align: right;\n",
       "    }\n",
       "</style>\n",
       "<table border=\"1\" class=\"dataframe\">\n",
       "  <thead>\n",
       "    <tr style=\"text-align: right;\">\n",
       "      <th></th>\n",
       "      <th>age</th>\n",
       "      <th>sex</th>\n",
       "      <th>bmi</th>\n",
       "      <th>children</th>\n",
       "      <th>smoker</th>\n",
       "      <th>Claim_Amount</th>\n",
       "      <th>past_consultations</th>\n",
       "      <th>num_of_steps</th>\n",
       "      <th>Hospital_expenditure</th>\n",
       "      <th>NUmber_of_past_hospitalizations</th>\n",
       "      <th>Anual_Salary</th>\n",
       "      <th>region</th>\n",
       "      <th>charges</th>\n",
       "    </tr>\n",
       "  </thead>\n",
       "  <tbody>\n",
       "    <tr>\n",
       "      <th>0</th>\n",
       "      <td>18.0</td>\n",
       "      <td>1</td>\n",
       "      <td>23.21</td>\n",
       "      <td>0.0</td>\n",
       "      <td>0</td>\n",
       "      <td>29087.54313</td>\n",
       "      <td>17.0</td>\n",
       "      <td>715428.0</td>\n",
       "      <td>4720920.992</td>\n",
       "      <td>0.0</td>\n",
       "      <td>55784970.05</td>\n",
       "      <td>southeast</td>\n",
       "      <td>1121.8739</td>\n",
       "    </tr>\n",
       "    <tr>\n",
       "      <th>1</th>\n",
       "      <td>18.0</td>\n",
       "      <td>1</td>\n",
       "      <td>30.14</td>\n",
       "      <td>0.0</td>\n",
       "      <td>0</td>\n",
       "      <td>39053.67437</td>\n",
       "      <td>7.0</td>\n",
       "      <td>699157.0</td>\n",
       "      <td>4329831.676</td>\n",
       "      <td>0.0</td>\n",
       "      <td>13700885.19</td>\n",
       "      <td>southeast</td>\n",
       "      <td>1131.5066</td>\n",
       "    </tr>\n",
       "    <tr>\n",
       "      <th>2</th>\n",
       "      <td>18.0</td>\n",
       "      <td>1</td>\n",
       "      <td>33.33</td>\n",
       "      <td>0.0</td>\n",
       "      <td>0</td>\n",
       "      <td>39023.62759</td>\n",
       "      <td>19.0</td>\n",
       "      <td>702341.0</td>\n",
       "      <td>6884860.774</td>\n",
       "      <td>0.0</td>\n",
       "      <td>73523107.27</td>\n",
       "      <td>southeast</td>\n",
       "      <td>1135.9407</td>\n",
       "    </tr>\n",
       "    <tr>\n",
       "      <th>3</th>\n",
       "      <td>18.0</td>\n",
       "      <td>1</td>\n",
       "      <td>33.66</td>\n",
       "      <td>0.0</td>\n",
       "      <td>0</td>\n",
       "      <td>28185.39332</td>\n",
       "      <td>11.0</td>\n",
       "      <td>700250.0</td>\n",
       "      <td>4274773.550</td>\n",
       "      <td>0.0</td>\n",
       "      <td>75819679.60</td>\n",
       "      <td>southeast</td>\n",
       "      <td>1136.3994</td>\n",
       "    </tr>\n",
       "    <tr>\n",
       "      <th>4</th>\n",
       "      <td>18.0</td>\n",
       "      <td>1</td>\n",
       "      <td>34.10</td>\n",
       "      <td>0.0</td>\n",
       "      <td>0</td>\n",
       "      <td>14697.85941</td>\n",
       "      <td>16.0</td>\n",
       "      <td>711584.0</td>\n",
       "      <td>3787293.921</td>\n",
       "      <td>0.0</td>\n",
       "      <td>23012320.01</td>\n",
       "      <td>southeast</td>\n",
       "      <td>1137.0110</td>\n",
       "    </tr>\n",
       "  </tbody>\n",
       "</table>\n",
       "</div>"
      ],
      "text/plain": [
       "    age  sex    bmi  children  smoker  Claim_Amount  past_consultations  \\\n",
       "0  18.0    1  23.21       0.0       0   29087.54313                17.0   \n",
       "1  18.0    1  30.14       0.0       0   39053.67437                 7.0   \n",
       "2  18.0    1  33.33       0.0       0   39023.62759                19.0   \n",
       "3  18.0    1  33.66       0.0       0   28185.39332                11.0   \n",
       "4  18.0    1  34.10       0.0       0   14697.85941                16.0   \n",
       "\n",
       "   num_of_steps  Hospital_expenditure  NUmber_of_past_hospitalizations  \\\n",
       "0      715428.0           4720920.992                              0.0   \n",
       "1      699157.0           4329831.676                              0.0   \n",
       "2      702341.0           6884860.774                              0.0   \n",
       "3      700250.0           4274773.550                              0.0   \n",
       "4      711584.0           3787293.921                              0.0   \n",
       "\n",
       "   Anual_Salary     region    charges  \n",
       "0   55784970.05  southeast  1121.8739  \n",
       "1   13700885.19  southeast  1131.5066  \n",
       "2   73523107.27  southeast  1135.9407  \n",
       "3   75819679.60  southeast  1136.3994  \n",
       "4   23012320.01  southeast  1137.0110  "
      ]
     },
     "execution_count": 8,
     "metadata": {},
     "output_type": "execute_result"
    }
   ],
   "source": [
    "df.head()"
   ]
  },
  {
   "cell_type": "code",
   "execution_count": 9,
   "id": "1be8cd40",
   "metadata": {},
   "outputs": [
    {
     "data": {
      "text/plain": [
       "Index(['age', 'sex', 'bmi', 'children', 'smoker', 'Claim_Amount',\n",
       "       'past_consultations', 'num_of_steps', 'Hospital_expenditure',\n",
       "       'NUmber_of_past_hospitalizations', 'Anual_Salary', 'region', 'charges'],\n",
       "      dtype='object')"
      ]
     },
     "execution_count": 9,
     "metadata": {},
     "output_type": "execute_result"
    }
   ],
   "source": [
    "df.columns"
   ]
  },
  {
   "cell_type": "code",
   "execution_count": 10,
   "id": "12abfa32",
   "metadata": {},
   "outputs": [
    {
     "data": {
      "text/plain": [
       "(1338, 13)"
      ]
     },
     "execution_count": 10,
     "metadata": {},
     "output_type": "execute_result"
    }
   ],
   "source": [
    "df.shape"
   ]
  },
  {
   "cell_type": "code",
   "execution_count": 11,
   "id": "36dfe69b",
   "metadata": {},
   "outputs": [
    {
     "data": {
      "text/plain": [
       "2"
      ]
     },
     "execution_count": 11,
     "metadata": {},
     "output_type": "execute_result"
    }
   ],
   "source": [
    "df.ndim"
   ]
  },
  {
   "cell_type": "code",
   "execution_count": 12,
   "id": "c218f239",
   "metadata": {},
   "outputs": [
    {
     "data": {
      "text/html": [
       "<div>\n",
       "<style scoped>\n",
       "    .dataframe tbody tr th:only-of-type {\n",
       "        vertical-align: middle;\n",
       "    }\n",
       "\n",
       "    .dataframe tbody tr th {\n",
       "        vertical-align: top;\n",
       "    }\n",
       "\n",
       "    .dataframe thead th {\n",
       "        text-align: right;\n",
       "    }\n",
       "</style>\n",
       "<table border=\"1\" class=\"dataframe\">\n",
       "  <thead>\n",
       "    <tr style=\"text-align: right;\">\n",
       "      <th></th>\n",
       "      <th>age</th>\n",
       "      <th>sex</th>\n",
       "      <th>bmi</th>\n",
       "      <th>children</th>\n",
       "      <th>smoker</th>\n",
       "      <th>Claim_Amount</th>\n",
       "      <th>past_consultations</th>\n",
       "      <th>num_of_steps</th>\n",
       "      <th>Hospital_expenditure</th>\n",
       "      <th>NUmber_of_past_hospitalizations</th>\n",
       "      <th>Anual_Salary</th>\n",
       "      <th>charges</th>\n",
       "    </tr>\n",
       "  </thead>\n",
       "  <tbody>\n",
       "    <tr>\n",
       "      <th>count</th>\n",
       "      <td>1329.000000</td>\n",
       "      <td>1338.000000</td>\n",
       "      <td>1335.000000</td>\n",
       "      <td>1333.000000</td>\n",
       "      <td>1338.000000</td>\n",
       "      <td>1324.000000</td>\n",
       "      <td>1332.000000</td>\n",
       "      <td>1.335000e+03</td>\n",
       "      <td>1.334000e+03</td>\n",
       "      <td>1336.000000</td>\n",
       "      <td>1.332000e+03</td>\n",
       "      <td>1338.000000</td>\n",
       "    </tr>\n",
       "    <tr>\n",
       "      <th>mean</th>\n",
       "      <td>39.310008</td>\n",
       "      <td>0.505232</td>\n",
       "      <td>30.665112</td>\n",
       "      <td>1.090773</td>\n",
       "      <td>0.204783</td>\n",
       "      <td>33361.327180</td>\n",
       "      <td>15.216216</td>\n",
       "      <td>9.100047e+05</td>\n",
       "      <td>1.584179e+07</td>\n",
       "      <td>1.060629</td>\n",
       "      <td>3.696849e+08</td>\n",
       "      <td>13270.422265</td>\n",
       "    </tr>\n",
       "    <tr>\n",
       "      <th>std</th>\n",
       "      <td>14.034818</td>\n",
       "      <td>0.500160</td>\n",
       "      <td>6.101690</td>\n",
       "      <td>1.201856</td>\n",
       "      <td>0.403694</td>\n",
       "      <td>15617.288337</td>\n",
       "      <td>7.467723</td>\n",
       "      <td>9.188612e+04</td>\n",
       "      <td>2.669305e+07</td>\n",
       "      <td>0.533583</td>\n",
       "      <td>5.668843e+08</td>\n",
       "      <td>12110.011237</td>\n",
       "    </tr>\n",
       "    <tr>\n",
       "      <th>min</th>\n",
       "      <td>18.000000</td>\n",
       "      <td>0.000000</td>\n",
       "      <td>15.960000</td>\n",
       "      <td>0.000000</td>\n",
       "      <td>0.000000</td>\n",
       "      <td>1920.136268</td>\n",
       "      <td>1.000000</td>\n",
       "      <td>6.954300e+05</td>\n",
       "      <td>2.945253e+04</td>\n",
       "      <td>0.000000</td>\n",
       "      <td>2.747072e+06</td>\n",
       "      <td>1121.873900</td>\n",
       "    </tr>\n",
       "    <tr>\n",
       "      <th>25%</th>\n",
       "      <td>27.000000</td>\n",
       "      <td>0.000000</td>\n",
       "      <td>26.302500</td>\n",
       "      <td>0.000000</td>\n",
       "      <td>0.000000</td>\n",
       "      <td>20768.860390</td>\n",
       "      <td>9.000000</td>\n",
       "      <td>8.471995e+05</td>\n",
       "      <td>4.077633e+06</td>\n",
       "      <td>1.000000</td>\n",
       "      <td>7.701932e+07</td>\n",
       "      <td>4740.287150</td>\n",
       "    </tr>\n",
       "    <tr>\n",
       "      <th>50%</th>\n",
       "      <td>39.000000</td>\n",
       "      <td>1.000000</td>\n",
       "      <td>30.400000</td>\n",
       "      <td>1.000000</td>\n",
       "      <td>0.000000</td>\n",
       "      <td>33700.310675</td>\n",
       "      <td>15.000000</td>\n",
       "      <td>9.143000e+05</td>\n",
       "      <td>7.490337e+06</td>\n",
       "      <td>1.000000</td>\n",
       "      <td>1.419361e+08</td>\n",
       "      <td>9382.033000</td>\n",
       "    </tr>\n",
       "    <tr>\n",
       "      <th>75%</th>\n",
       "      <td>51.000000</td>\n",
       "      <td>1.000000</td>\n",
       "      <td>34.687500</td>\n",
       "      <td>2.000000</td>\n",
       "      <td>0.000000</td>\n",
       "      <td>45052.331957</td>\n",
       "      <td>20.000000</td>\n",
       "      <td>9.716840e+05</td>\n",
       "      <td>1.084082e+07</td>\n",
       "      <td>1.000000</td>\n",
       "      <td>3.243499e+08</td>\n",
       "      <td>16639.912515</td>\n",
       "    </tr>\n",
       "    <tr>\n",
       "      <th>max</th>\n",
       "      <td>64.000000</td>\n",
       "      <td>1.000000</td>\n",
       "      <td>53.130000</td>\n",
       "      <td>5.000000</td>\n",
       "      <td>1.000000</td>\n",
       "      <td>77277.988480</td>\n",
       "      <td>40.000000</td>\n",
       "      <td>1.107872e+06</td>\n",
       "      <td>2.616317e+08</td>\n",
       "      <td>3.000000</td>\n",
       "      <td>4.117197e+09</td>\n",
       "      <td>63770.428010</td>\n",
       "    </tr>\n",
       "  </tbody>\n",
       "</table>\n",
       "</div>"
      ],
      "text/plain": [
       "               age          sex          bmi     children       smoker  \\\n",
       "count  1329.000000  1338.000000  1335.000000  1333.000000  1338.000000   \n",
       "mean     39.310008     0.505232    30.665112     1.090773     0.204783   \n",
       "std      14.034818     0.500160     6.101690     1.201856     0.403694   \n",
       "min      18.000000     0.000000    15.960000     0.000000     0.000000   \n",
       "25%      27.000000     0.000000    26.302500     0.000000     0.000000   \n",
       "50%      39.000000     1.000000    30.400000     1.000000     0.000000   \n",
       "75%      51.000000     1.000000    34.687500     2.000000     0.000000   \n",
       "max      64.000000     1.000000    53.130000     5.000000     1.000000   \n",
       "\n",
       "       Claim_Amount  past_consultations  num_of_steps  Hospital_expenditure  \\\n",
       "count   1324.000000         1332.000000  1.335000e+03          1.334000e+03   \n",
       "mean   33361.327180           15.216216  9.100047e+05          1.584179e+07   \n",
       "std    15617.288337            7.467723  9.188612e+04          2.669305e+07   \n",
       "min     1920.136268            1.000000  6.954300e+05          2.945253e+04   \n",
       "25%    20768.860390            9.000000  8.471995e+05          4.077633e+06   \n",
       "50%    33700.310675           15.000000  9.143000e+05          7.490337e+06   \n",
       "75%    45052.331957           20.000000  9.716840e+05          1.084082e+07   \n",
       "max    77277.988480           40.000000  1.107872e+06          2.616317e+08   \n",
       "\n",
       "       NUmber_of_past_hospitalizations  Anual_Salary       charges  \n",
       "count                      1336.000000  1.332000e+03   1338.000000  \n",
       "mean                          1.060629  3.696849e+08  13270.422265  \n",
       "std                           0.533583  5.668843e+08  12110.011237  \n",
       "min                           0.000000  2.747072e+06   1121.873900  \n",
       "25%                           1.000000  7.701932e+07   4740.287150  \n",
       "50%                           1.000000  1.419361e+08   9382.033000  \n",
       "75%                           1.000000  3.243499e+08  16639.912515  \n",
       "max                           3.000000  4.117197e+09  63770.428010  "
      ]
     },
     "execution_count": 12,
     "metadata": {},
     "output_type": "execute_result"
    }
   ],
   "source": [
    "df.describe()"
   ]
  },
  {
   "cell_type": "code",
   "execution_count": 13,
   "id": "db8b1d7f",
   "metadata": {},
   "outputs": [],
   "source": [
    "# checking the distribution of each of the data points in insurance data\n",
    "import seaborn as sns, matplotlib.pyplot as plt\n",
    "import warnings\n",
    "warnings.filterwarnings('ignore')"
   ]
  },
  {
   "cell_type": "code",
   "execution_count": 14,
   "id": "53df2032",
   "metadata": {
    "scrolled": false
   },
   "outputs": [
    {
     "data": {
      "image/png": "[encoded data removed]",
      "text/plain": [
       "<Figure size 864x432 with 9 Axes>"
      ]
     },
     "metadata": {
      "needs_background": "light"
     },
     "output_type": "display_data"
    }
   ],
   "source": [
    "fig=plt.figure(figsize=(12,6))\n",
    "plt.subplot(3,3,1)\n",
    "sns.distplot(x=df['age'])\n",
    "plt.subplot(3,3,2)\n",
    "sns.distplot(x=df['bmi'])\n",
    "plt.subplot(3,3,3)\n",
    "sns.distplot(x=df['children'])\n",
    "plt.subplot(3,3,4)\n",
    "sns.distplot(x=df['Claim_Amount'])\n",
    "plt.subplot(3,3,5)\n",
    "sns.distplot(x=df['past_consultations'])\n",
    "plt.subplot(3,3,6)\n",
    "sns.distplot(x=df['num_of_steps'])\n",
    "plt.subplot(3,3,7)\n",
    "sns.distplot(x=df['Hospital_expenditure'])\n",
    "plt.subplot(3,3,8)\n",
    "sns.distplot(x=df['NUmber_of_past_hospitalizations'])\n",
    "plt.subplot(3,3,9)\n",
    "sns.distplot(x=df['smoker'])\n",
    "plt.subplots_adjust(hspace=0.5,wspace=0.5)\n",
    "plt.show()"
   ]
  },
  {
   "cell_type": "code",
   "execution_count": 15,
   "id": "69f964c3",
   "metadata": {},
   "outputs": [],
   "source": [
    "# Checking peakness and outliers in data"
   ]
  },
  {
   "cell_type": "code",
   "execution_count": 16,
   "id": "283e73b8",
   "metadata": {},
   "outputs": [
    {
     "data": {
      "text/plain": [
       "<AxesSubplot:xlabel='smoker'>"
      ]
     },
     "execution_count": 16,
     "metadata": {},
     "output_type": "execute_result"
    },
    {
     "data": {
      "image/png": "[encoded data removed]",
      "text/plain": [
       "<Figure size 1440x720 with 9 Axes>"
      ]
     },
     "metadata": {
      "needs_background": "light"
     },
     "output_type": "display_data"
    }
   ],
   "source": [
    "ig,axes=plt.subplots(3,3,figsize=(20,10))\n",
    "plt.subplot(3,3,1)\n",
    "sns.boxplot(x=df['age'])\n",
    "plt.subplot(3,3,2)\n",
    "sns.boxplot(x=df['bmi'])\n",
    "plt.subplot(3,3,3)\n",
    "sns.boxplot(x=df['children'])\n",
    "plt.subplot(3,3,4)\n",
    "sns.boxplot(x=df['Claim_Amount'])\n",
    "plt.subplot(3,3,5)\n",
    "sns.boxplot(x=df['past_consultations'])\n",
    "plt.subplot(3,3,6)\n",
    "sns.boxplot(x=df['num_of_steps'])\n",
    "plt.subplot(3,3,7)\n",
    "sns.boxplot(x=df['Hospital_expenditure'])\n",
    "plt.subplot(3,3,8)\n",
    "sns.boxplot(x=df['NUmber_of_past_hospitalizations'])\n",
    "plt.subplot(3,3,9)\n",
    "sns.boxplot(x=df['smoker'])\n"
   ]
  },
  {
   "cell_type": "raw",
   "id": "6add09ba",
   "metadata": {},
   "source": [
    "The plots show presence of outliers in some of the features, but we can use the data since the values/outliers does not\n",
    "have to be dealt with at all times. Sometimes, keeping the outliers can still yield good results."
   ]
  },
  {
   "cell_type": "code",
   "execution_count": 17,
   "id": "024b6c66",
   "metadata": {},
   "outputs": [
    {
     "data": {
      "text/plain": [
       "age                                 9\n",
       "sex                                 0\n",
       "bmi                                 3\n",
       "children                            5\n",
       "smoker                              0\n",
       "Claim_Amount                       14\n",
       "past_consultations                  6\n",
       "num_of_steps                        3\n",
       "Hospital_expenditure                4\n",
       "NUmber_of_past_hospitalizations     2\n",
       "Anual_Salary                        6\n",
       "region                              0\n",
       "charges                             0\n",
       "dtype: int64"
      ]
     },
     "execution_count": 17,
     "metadata": {},
     "output_type": "execute_result"
    }
   ],
   "source": [
    "df.isna().sum()"
   ]
  },
  {
   "cell_type": "raw",
   "id": "211f9c19",
   "metadata": {},
   "source": [
    "Assuming that the data is missing completly at random,we will use mean/median imputation and replace the missing values with mean/median valuse of respective columns. for skedwed we will take median values to avoid any bias."
   ]
  },
  {
   "cell_type": "code",
   "execution_count": 18,
   "id": "f7b0e662",
   "metadata": {},
   "outputs": [],
   "source": [
    "col=list(df.columns)"
   ]
  },
  {
   "cell_type": "code",
   "execution_count": 19,
   "id": "d0e85dd5",
   "metadata": {},
   "outputs": [],
   "source": [
    "for columns in col:\n",
    "    if df[columns].dtypes=='object':\n",
    "        df[columns]=df[columns].fillna(df[columns].mode()[0])\n",
    "    else:\n",
    "         df[columns]=df[columns].fillna(df[columns].mean())"
   ]
  },
  {
   "cell_type": "code",
   "execution_count": 20,
   "id": "6a1b26cb",
   "metadata": {},
   "outputs": [
    {
     "data": {
      "text/plain": [
       "age                                0\n",
       "sex                                0\n",
       "bmi                                0\n",
       "children                           0\n",
       "smoker                             0\n",
       "Claim_Amount                       0\n",
       "past_consultations                 0\n",
       "num_of_steps                       0\n",
       "Hospital_expenditure               0\n",
       "NUmber_of_past_hospitalizations    0\n",
       "Anual_Salary                       0\n",
       "region                             0\n",
       "charges                            0\n",
       "dtype: int64"
      ]
     },
     "execution_count": 20,
     "metadata": {},
     "output_type": "execute_result"
    }
   ],
   "source": [
    "df.isna().sum()"
   ]
  },
  {
   "cell_type": "code",
   "execution_count": 24,
   "id": "f0069dfd",
   "metadata": {},
   "outputs": [
    {
     "data": {
      "text/html": [
       "<div>\n",
       "<style scoped>\n",
       "    .dataframe tbody tr th:only-of-type {\n",
       "        vertical-align: middle;\n",
       "    }\n",
       "\n",
       "    .dataframe tbody tr th {\n",
       "        vertical-align: top;\n",
       "    }\n",
       "\n",
       "    .dataframe thead th {\n",
       "        text-align: right;\n",
       "    }\n",
       "</style>\n",
       "<table border=\"1\" class=\"dataframe\">\n",
       "  <thead>\n",
       "    <tr style=\"text-align: right;\">\n",
       "      <th></th>\n",
       "      <th>age</th>\n",
       "      <th>sex</th>\n",
       "      <th>bmi</th>\n",
       "      <th>children</th>\n",
       "      <th>smoker</th>\n",
       "      <th>Claim_Amount</th>\n",
       "      <th>past_consultations</th>\n",
       "      <th>num_of_steps</th>\n",
       "      <th>Hospital_expenditure</th>\n",
       "      <th>NUmber_of_past_hospitalizations</th>\n",
       "      <th>Anual_Salary</th>\n",
       "      <th>region</th>\n",
       "      <th>charges</th>\n",
       "    </tr>\n",
       "  </thead>\n",
       "  <tbody>\n",
       "    <tr>\n",
       "      <th>0</th>\n",
       "      <td>18.0</td>\n",
       "      <td>1</td>\n",
       "      <td>23.21</td>\n",
       "      <td>0.0</td>\n",
       "      <td>0</td>\n",
       "      <td>29087.54313</td>\n",
       "      <td>17.0</td>\n",
       "      <td>715428.0</td>\n",
       "      <td>4720920.992</td>\n",
       "      <td>0.0</td>\n",
       "      <td>55784970.05</td>\n",
       "      <td>southeast</td>\n",
       "      <td>1121.8739</td>\n",
       "    </tr>\n",
       "    <tr>\n",
       "      <th>1</th>\n",
       "      <td>18.0</td>\n",
       "      <td>1</td>\n",
       "      <td>30.14</td>\n",
       "      <td>0.0</td>\n",
       "      <td>0</td>\n",
       "      <td>39053.67437</td>\n",
       "      <td>7.0</td>\n",
       "      <td>699157.0</td>\n",
       "      <td>4329831.676</td>\n",
       "      <td>0.0</td>\n",
       "      <td>13700885.19</td>\n",
       "      <td>southeast</td>\n",
       "      <td>1131.5066</td>\n",
       "    </tr>\n",
       "  </tbody>\n",
       "</table>\n",
       "</div>"
      ],
      "text/plain": [
       "    age  sex    bmi  children  smoker  Claim_Amount  past_consultations  \\\n",
       "0  18.0    1  23.21       0.0       0   29087.54313                17.0   \n",
       "1  18.0    1  30.14       0.0       0   39053.67437                 7.0   \n",
       "\n",
       "   num_of_steps  Hospital_expenditure  NUmber_of_past_hospitalizations  \\\n",
       "0      715428.0           4720920.992                              0.0   \n",
       "1      699157.0           4329831.676                              0.0   \n",
       "\n",
       "   Anual_Salary     region    charges  \n",
       "0   55784970.05  southeast  1121.8739  \n",
       "1   13700885.19  southeast  1131.5066  "
      ]
     },
     "execution_count": 24,
     "metadata": {},
     "output_type": "execute_result"
    }
   ],
   "source": [
    "df.head(2)"
   ]
  },
  {
   "cell_type": "code",
   "execution_count": 25,
   "id": "9e6c282a",
   "metadata": {},
   "outputs": [],
   "source": [
    "from sklearn.model_selection import train_test_split\n",
    "x=df.drop(['charges','age','sex','bmi','children','region'],axis=1)\n",
    "y=df.iloc[:,-1]"
   ]
  },
  {
   "cell_type": "code",
   "execution_count": 26,
   "id": "3025e583",
   "metadata": {},
   "outputs": [
    {
     "data": {
      "text/html": [
       "<div>\n",
       "<style scoped>\n",
       "    .dataframe tbody tr th:only-of-type {\n",
       "        vertical-align: middle;\n",
       "    }\n",
       "\n",
       "    .dataframe tbody tr th {\n",
       "        vertical-align: top;\n",
       "    }\n",
       "\n",
       "    .dataframe thead th {\n",
       "        text-align: right;\n",
       "    }\n",
       "</style>\n",
       "<table border=\"1\" class=\"dataframe\">\n",
       "  <thead>\n",
       "    <tr style=\"text-align: right;\">\n",
       "      <th></th>\n",
       "      <th>smoker</th>\n",
       "      <th>Claim_Amount</th>\n",
       "      <th>past_consultations</th>\n",
       "      <th>num_of_steps</th>\n",
       "      <th>Hospital_expenditure</th>\n",
       "      <th>NUmber_of_past_hospitalizations</th>\n",
       "      <th>Anual_Salary</th>\n",
       "    </tr>\n",
       "  </thead>\n",
       "  <tbody>\n",
       "    <tr>\n",
       "      <th>560</th>\n",
       "      <td>0</td>\n",
       "      <td>29622.26103</td>\n",
       "      <td>6.0</td>\n",
       "      <td>886052.0</td>\n",
       "      <td>7.579867e+06</td>\n",
       "      <td>1.0</td>\n",
       "      <td>1.589946e+08</td>\n",
       "    </tr>\n",
       "    <tr>\n",
       "      <th>1285</th>\n",
       "      <td>1</td>\n",
       "      <td>66824.70947</td>\n",
       "      <td>23.0</td>\n",
       "      <td>1063413.0</td>\n",
       "      <td>8.042196e+07</td>\n",
       "      <td>2.0</td>\n",
       "      <td>1.919607e+09</td>\n",
       "    </tr>\n",
       "    <tr>\n",
       "      <th>1142</th>\n",
       "      <td>0</td>\n",
       "      <td>36320.75384</td>\n",
       "      <td>16.0</td>\n",
       "      <td>1001618.0</td>\n",
       "      <td>1.772151e+07</td>\n",
       "      <td>2.0</td>\n",
       "      <td>7.139574e+08</td>\n",
       "    </tr>\n",
       "    <tr>\n",
       "      <th>969</th>\n",
       "      <td>0</td>\n",
       "      <td>24827.43078</td>\n",
       "      <td>8.0</td>\n",
       "      <td>962113.0</td>\n",
       "      <td>1.214312e+07</td>\n",
       "      <td>1.0</td>\n",
       "      <td>2.928227e+08</td>\n",
       "    </tr>\n",
       "    <tr>\n",
       "      <th>486</th>\n",
       "      <td>0</td>\n",
       "      <td>47348.03370</td>\n",
       "      <td>10.0</td>\n",
       "      <td>888358.0</td>\n",
       "      <td>6.034962e+06</td>\n",
       "      <td>1.0</td>\n",
       "      <td>5.093163e+07</td>\n",
       "    </tr>\n",
       "    <tr>\n",
       "      <th>...</th>\n",
       "      <td>...</td>\n",
       "      <td>...</td>\n",
       "      <td>...</td>\n",
       "      <td>...</td>\n",
       "      <td>...</td>\n",
       "      <td>...</td>\n",
       "      <td>...</td>\n",
       "    </tr>\n",
       "    <tr>\n",
       "      <th>1095</th>\n",
       "      <td>0</td>\n",
       "      <td>47554.34106</td>\n",
       "      <td>19.0</td>\n",
       "      <td>1007896.0</td>\n",
       "      <td>1.132722e+07</td>\n",
       "      <td>1.0</td>\n",
       "      <td>5.662888e+08</td>\n",
       "    </tr>\n",
       "    <tr>\n",
       "      <th>1130</th>\n",
       "      <td>0</td>\n",
       "      <td>63672.07916</td>\n",
       "      <td>14.0</td>\n",
       "      <td>1000863.0</td>\n",
       "      <td>2.295519e+07</td>\n",
       "      <td>2.0</td>\n",
       "      <td>6.472972e+08</td>\n",
       "    </tr>\n",
       "    <tr>\n",
       "      <th>1294</th>\n",
       "      <td>1</td>\n",
       "      <td>42578.49702</td>\n",
       "      <td>24.0</td>\n",
       "      <td>1061168.0</td>\n",
       "      <td>9.188836e+07</td>\n",
       "      <td>2.0</td>\n",
       "      <td>2.038383e+09</td>\n",
       "    </tr>\n",
       "    <tr>\n",
       "      <th>860</th>\n",
       "      <td>0</td>\n",
       "      <td>27369.02461</td>\n",
       "      <td>22.0</td>\n",
       "      <td>943007.0</td>\n",
       "      <td>3.634140e+06</td>\n",
       "      <td>1.0</td>\n",
       "      <td>1.877743e+08</td>\n",
       "    </tr>\n",
       "    <tr>\n",
       "      <th>1126</th>\n",
       "      <td>0</td>\n",
       "      <td>37385.45533</td>\n",
       "      <td>26.0</td>\n",
       "      <td>1029035.0</td>\n",
       "      <td>1.579127e+07</td>\n",
       "      <td>2.0</td>\n",
       "      <td>6.863093e+08</td>\n",
       "    </tr>\n",
       "  </tbody>\n",
       "</table>\n",
       "<p>1070 rows × 7 columns</p>\n",
       "</div>"
      ],
      "text/plain": [
       "      smoker  Claim_Amount  past_consultations  num_of_steps  \\\n",
       "560        0   29622.26103                 6.0      886052.0   \n",
       "1285       1   66824.70947                23.0     1063413.0   \n",
       "1142       0   36320.75384                16.0     1001618.0   \n",
       "969        0   24827.43078                 8.0      962113.0   \n",
       "486        0   47348.03370                10.0      888358.0   \n",
       "...      ...           ...                 ...           ...   \n",
       "1095       0   47554.34106                19.0     1007896.0   \n",
       "1130       0   63672.07916                14.0     1000863.0   \n",
       "1294       1   42578.49702                24.0     1061168.0   \n",
       "860        0   27369.02461                22.0      943007.0   \n",
       "1126       0   37385.45533                26.0     1029035.0   \n",
       "\n",
       "      Hospital_expenditure  NUmber_of_past_hospitalizations  Anual_Salary  \n",
       "560           7.579867e+06                              1.0  1.589946e+08  \n",
       "1285          8.042196e+07                              2.0  1.919607e+09  \n",
       "1142          1.772151e+07                              2.0  7.139574e+08  \n",
       "969           1.214312e+07                              1.0  2.928227e+08  \n",
       "486           6.034962e+06                              1.0  5.093163e+07  \n",
       "...                    ...                              ...           ...  \n",
       "1095          1.132722e+07                              1.0  5.662888e+08  \n",
       "1130          2.295519e+07                              2.0  6.472972e+08  \n",
       "1294          9.188836e+07                              2.0  2.038383e+09  \n",
       "860           3.634140e+06                              1.0  1.877743e+08  \n",
       "1126          1.579127e+07                              2.0  6.863093e+08  \n",
       "\n",
       "[1070 rows x 7 columns]"
      ]
     },
     "execution_count": 26,
     "metadata": {},
     "output_type": "execute_result"
    }
   ],
   "source": [
    "x_train,x_test,y_train,y_test=train_test_split(x,y,test_size=0.2,random_state=42)\n",
    "x_train"
   ]
  },
  {
   "cell_type": "markdown",
   "id": "df6f3270",
   "metadata": {},
   "source": [
    "# Feature Scaling"
   ]
  },
  {
   "cell_type": "code",
   "execution_count": 31,
   "id": "2543f9d0",
   "metadata": {},
   "outputs": [
    {
     "data": {
      "text/plain": [
       "array([[-0.50874702, -0.24550745, -1.2335211 , ..., -0.29837543,\n",
       "        -0.10132685, -0.36744054],\n",
       "       [ 1.96561348,  2.14294016,  1.08058381, ...,  2.44689035,\n",
       "         1.76602682,  2.78134119],\n",
       "       [-0.50874702,  0.18454486,  0.12771708, ...,  0.08384187,\n",
       "         1.76602682,  0.62508709],\n",
       "       ...,\n",
       "       [ 1.96561348,  0.58630046,  1.21670762, ...,  2.8790353 ,\n",
       "         1.76602682,  2.99376627],\n",
       "       [-0.50874702, -0.39016829,  0.94445999, ..., -0.44708162,\n",
       "        -0.10132685, -0.31596922],\n",
       "       [-0.50874702,  0.25290014,  1.48895526, ...,  0.01109516,\n",
       "         1.76602682,  0.57563974]])"
      ]
     },
     "execution_count": 31,
     "metadata": {},
     "output_type": "execute_result"
    }
   ],
   "source": [
    "from sklearn.preprocessing import StandardScaler\n",
    "sc=StandardScaler()\n",
    "x_train=sc.fit_transform(x_train)\n",
    "x_test=sc.transform(x_test)\n",
    "x_train"
   ]
  },
  {
   "cell_type": "markdown",
   "id": "9a252679",
   "metadata": {},
   "source": [
    "# Linear Regression Model"
   ]
  },
  {
   "cell_type": "code",
   "execution_count": 40,
   "id": "5c034071",
   "metadata": {},
   "outputs": [],
   "source": [
    "# Fitting the model\n",
    "from sklearn.linear_model import LinearRegression\n",
    "model=LinearRegression()"
   ]
  },
  {
   "cell_type": "code",
   "execution_count": 41,
   "id": "42844ac2",
   "metadata": {},
   "outputs": [
    {
     "data": {
      "text/plain": [
       "LinearRegression()"
      ]
     },
     "execution_count": 41,
     "metadata": {},
     "output_type": "execute_result"
    }
   ],
   "source": [
    "model.fit(x_train,y_train)"
   ]
  },
  {
   "cell_type": "code",
   "execution_count": 42,
   "id": "4d12fca5",
   "metadata": {},
   "outputs": [],
   "source": [
    "# Making predictions\n",
    "prediction=model.predict(x_test)"
   ]
  },
  {
   "cell_type": "markdown",
   "id": "b851baea",
   "metadata": {},
   "source": [
    "# Model Evaluation – r2 and adjusted r2 score"
   ]
  },
  {
   "cell_type": "code",
   "execution_count": 56,
   "id": "8e05de7a",
   "metadata": {},
   "outputs": [
    {
     "name": "stdout",
     "output_type": "stream",
     "text": [
      "r2 score is: 0.9734801791827333\n",
      "adjusted r2 score is : 0.9732804065212096\n"
     ]
    }
   ],
   "source": [
    "from sklearn.metrics import r2_score\n",
    "r2=r2_score(y_test,prediction)\n",
    "print(\"r2 score is:\",r2)\n",
    "\n",
    "# Adjusted r2 score\n",
    "adj_r2=1-(1-r2)*len(y_train)/(len(y_train)-x_train.shape[1]-1)\n",
    "print(\"adjusted r2 score is :\",adj_r2)"
   ]
  },
  {
   "cell_type": "raw",
   "id": "c16eb081",
   "metadata": {},
   "source": [
    "The adjusted R squared statistic takes into account the number of predictor variables and helps us in determining the goodness of fit in presence of new predictor variables."
   ]
  },
  {
   "cell_type": "markdown",
   "id": "49886c7e",
   "metadata": {},
   "source": [
    "# Model Evaluation - Mean Squared Error"
   ]
  },
  {
   "cell_type": "code",
   "execution_count": 60,
   "id": "fda995c0",
   "metadata": {},
   "outputs": [
    {
     "name": "stdout",
     "output_type": "stream",
     "text": [
      "mean squared error on train data is:  2059.0346630756076\n"
     ]
    }
   ],
   "source": [
    "from sklearn.metrics import mean_squared_error\n",
    "rmse_on_test=mean_squared_error(y_test,prediction, squared=False)\n",
    "print(\"mean squared error on train data is: \",rmse_on_test)"
   ]
  },
  {
   "cell_type": "code",
   "execution_count": 62,
   "id": "b31d2ee5",
   "metadata": {},
   "outputs": [
    {
     "data": {
      "text/plain": [
       "array([ 8557.15177218, 43506.86202967, 22597.94915406, ...,\n",
       "       44436.79109922, 12461.59631092, 23893.07905295])"
      ]
     },
     "execution_count": 62,
     "metadata": {},
     "output_type": "execute_result"
    }
   ],
   "source": [
    "train_predict=model.predict(x_train)\n",
    "train_predict"
   ]
  },
  {
   "cell_type": "code",
   "execution_count": 64,
   "id": "663079d2",
   "metadata": {},
   "outputs": [
    {
     "name": "stdout",
     "output_type": "stream",
     "text": [
      "mean squared error on traindata is:  1461.1124993323106\n"
     ]
    }
   ],
   "source": [
    "rmse_on_train=mean_squared_error(y_train,train_predict,squared=False)\n",
    "print(\"mean squared error on traindata is: \",rmse_on_train)"
   ]
  },
  {
   "cell_type": "code",
   "execution_count": 69,
   "id": "cc46086d",
   "metadata": {},
   "outputs": [
    {
     "name": "stdout",
     "output_type": "stream",
     "text": [
      "mean absolute percentage error on train data is: 0.1850944209449294\n"
     ]
    }
   ],
   "source": [
    "# Mean absolute % error\n",
    "from sklearn.metrics import mean_absolute_percentage_error\n",
    "map_on_train=mean_absolute_percentage_error(y_train,train_predict)\n",
    "print(\"mean absolute percentage error on train data is:\",map_on_train)"
   ]
  },
  {
   "cell_type": "code",
   "execution_count": 71,
   "id": "0cee2f30",
   "metadata": {},
   "outputs": [
    {
     "name": "stdout",
     "output_type": "stream",
     "text": [
      "mean absolute percentage error on test data is: 0.1462204727475273\n"
     ]
    }
   ],
   "source": [
    "map_on_test=mean_absolute_percentage_error(y_test,prediction)\n",
    "print(\"mean absolute percentage error on test data is:\",map_on_test)"
   ]
  },
  {
   "cell_type": "raw",
   "id": "fc4efc6f",
   "metadata": {},
   "source": [
    "Mean absolute percentage error gives you an estimate of the percentage error between the actual and predicted values."
   ]
  },
  {
   "cell_type": "markdown",
   "id": "8c1f00db",
   "metadata": {},
   "source": [
    "# Model Evaluation-Plotting best fit line"
   ]
  },
  {
   "cell_type": "code",
   "execution_count": 73,
   "id": "9988f406",
   "metadata": {},
   "outputs": [],
   "source": [
    "error_pred=pd.DataFrame(columns={'Actual_data','Prediction_data'})\n",
    "\n",
    "error_pred['Actual_data']=y_test\n",
    "error_pred['Prediction_data']=prediction\n",
    "error_pred['Error']=error_pred['Actual_data']-error_pred['Prediction_data']"
   ]
  },
  {
   "cell_type": "code",
   "execution_count": 74,
   "id": "868a1f28",
   "metadata": {},
   "outputs": [
    {
     "data": {
      "text/html": [
       "<div>\n",
       "<style scoped>\n",
       "    .dataframe tbody tr th:only-of-type {\n",
       "        vertical-align: middle;\n",
       "    }\n",
       "\n",
       "    .dataframe tbody tr th {\n",
       "        vertical-align: top;\n",
       "    }\n",
       "\n",
       "    .dataframe thead th {\n",
       "        text-align: right;\n",
       "    }\n",
       "</style>\n",
       "<table border=\"1\" class=\"dataframe\">\n",
       "  <thead>\n",
       "    <tr style=\"text-align: right;\">\n",
       "      <th></th>\n",
       "      <th>Prediction_data</th>\n",
       "      <th>Actual_data</th>\n",
       "      <th>Error</th>\n",
       "    </tr>\n",
       "  </thead>\n",
       "  <tbody>\n",
       "    <tr>\n",
       "      <th>764</th>\n",
       "      <td>10653.834825</td>\n",
       "      <td>10928.84900</td>\n",
       "      <td>275.014175</td>\n",
       "    </tr>\n",
       "    <tr>\n",
       "      <th>887</th>\n",
       "      <td>11276.697002</td>\n",
       "      <td>12648.70340</td>\n",
       "      <td>1372.006398</td>\n",
       "    </tr>\n",
       "    <tr>\n",
       "      <th>890</th>\n",
       "      <td>11981.197055</td>\n",
       "      <td>12797.20962</td>\n",
       "      <td>816.012565</td>\n",
       "    </tr>\n",
       "    <tr>\n",
       "      <th>1293</th>\n",
       "      <td>43368.718949</td>\n",
       "      <td>44202.65360</td>\n",
       "      <td>833.934651</td>\n",
       "    </tr>\n",
       "    <tr>\n",
       "      <th>259</th>\n",
       "      <td>4377.020510</td>\n",
       "      <td>3925.75820</td>\n",
       "      <td>-451.262310</td>\n",
       "    </tr>\n",
       "  </tbody>\n",
       "</table>\n",
       "</div>"
      ],
      "text/plain": [
       "      Prediction_data  Actual_data        Error\n",
       "764      10653.834825  10928.84900   275.014175\n",
       "887      11276.697002  12648.70340  1372.006398\n",
       "890      11981.197055  12797.20962   816.012565\n",
       "1293     43368.718949  44202.65360   833.934651\n",
       "259       4377.020510   3925.75820  -451.262310"
      ]
     },
     "execution_count": 74,
     "metadata": {},
     "output_type": "execute_result"
    }
   ],
   "source": [
    "error_pred.head()"
   ]
  },
  {
   "cell_type": "code",
   "execution_count": 82,
   "id": "947ea2e9",
   "metadata": {},
   "outputs": [
    {
     "data": {
      "image/png": "[encoded data removed]",
      "text/plain": [
       "<Figure size 360x360 with 1 Axes>"
      ]
     },
     "metadata": {
      "needs_background": "light"
     },
     "output_type": "display_data"
    }
   ],
   "source": [
    "# Plotting best fit line\n",
    "plt.figure(figsize=(5,5))\n",
    "plt.scatter(error_pred['Actual_data'],error_pred['Prediction_data'],c='crimson')\n",
    "p1=max(max(error_pred['Prediction_data']),max(error_pred['Actual_data']))\n",
    "p2=min(min(error_pred['Prediction_data']),min(error_pred['Actual_data']))\n",
    "plt.plot([p1,p2],[p1,p2])\n",
    "plt.xlabel(\"True Value\")\n",
    "plt.ylabel('Prediction')\n",
    "plt.show()"
   ]
  }
 ],
 "metadata": {
  "kernelspec": {
   "display_name": "Python 3 (ipykernel)",
   "language": "python",
   "name": "python3"
  },
  "language_info": {
   "codemirror_mode": {
    "name": "ipython",
    "version": 3
   },
   "file_extension": ".py",
   "mimetype": "text/x-python",
   "name": "python",
   "nbconvert_exporter": "python",
   "pygments_lexer": "ipython3",
   "version": "3.9.7"
  }
 },
 "nbformat": 4,
 "nbformat_minor": 5
}
